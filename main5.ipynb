{
 "cells": [
  {
   "cell_type": "code",
   "execution_count": 118,
   "metadata": {},
   "outputs": [],
   "source": [
    "from pyspark.sql.types import StructType, StructField, StringType, DoubleType, IntegerType\n",
    "from pyspark.sql import SparkSession\n",
    "from pyspark.sql import functions\n",
    "from pyspark.sql.functions import col, lit, concat, lower, upper, substring, min, max"
   ]
  },
  {
   "cell_type": "code",
   "execution_count": 68,
   "metadata": {},
   "outputs": [],
   "source": [
    "import findspark\n",
    "findspark.init()\n",
    "\n",
    "spark = SparkSession.builder.master(\"local[*]\").getOrCreate()\n",
    "spark.conf.set(\"spark.sql.repl.eagerEval.enabled\", True) "
   ]
  },
  {
   "cell_type": "code",
   "execution_count": 69,
   "metadata": {},
   "outputs": [
    {
     "data": {
      "text/html": [
       "\n",
       "            <div>\n",
       "                <p><b>SparkSession - in-memory</b></p>\n",
       "                \n",
       "        <div>\n",
       "            <p><b>SparkContext</b></p>\n",
       "\n",
       "            <p><a href=\"http://mac.modem.local:4040\">Spark UI</a></p>\n",
       "\n",
       "            <dl>\n",
       "              <dt>Version</dt>\n",
       "                <dd><code>v3.5.4</code></dd>\n",
       "              <dt>Master</dt>\n",
       "                <dd><code>local</code></dd>\n",
       "              <dt>AppName</dt>\n",
       "                <dd><code>tranformations</code></dd>\n",
       "            </dl>\n",
       "        </div>\n",
       "        \n",
       "            </div>\n",
       "        "
      ],
      "text/plain": [
       "<pyspark.sql.session.SparkSession at 0x116210c80>"
      ]
     },
     "execution_count": 69,
     "metadata": {},
     "output_type": "execute_result"
    }
   ],
   "source": [
    "spark"
   ]
  },
  {
   "cell_type": "code",
   "execution_count": 70,
   "metadata": {},
   "outputs": [],
   "source": [
    "df = spark.read.csv('cars.csv', header=True, sep=\";\", inferSchema=True)"
   ]
  },
  {
   "cell_type": "code",
   "execution_count": 71,
   "metadata": {},
   "outputs": [
    {
     "name": "stdout",
     "output_type": "stream",
     "text": [
      "+--------------------+----+---------+------------+----------+------+------------+-----+------+\n",
      "|                 Car| MPG|Cylinders|Displacement|Horsepower|Weight|Acceleration|Model|Origin|\n",
      "+--------------------+----+---------+------------+----------+------+------------+-----+------+\n",
      "|Chevrolet Chevell...|18.0|        8|       307.0|     130.0|  3504|        12.0|   70|    US|\n",
      "|   Buick Skylark 320|15.0|        8|       350.0|     165.0|  3693|        11.5|   70|    US|\n",
      "|  Plymouth Satellite|18.0|        8|       318.0|     150.0|  3436|        11.0|   70|    US|\n",
      "|       AMC Rebel SST|16.0|        8|       304.0|     150.0|  3433|        12.0|   70|    US|\n",
      "|         Ford Torino|17.0|        8|       302.0|     140.0|  3449|        10.5|   70|    US|\n",
      "+--------------------+----+---------+------------+----------+------+------------+-----+------+\n",
      "only showing top 5 rows\n",
      "\n"
     ]
    }
   ],
   "source": [
    "df.show(5)"
   ]
  },
  {
   "cell_type": "markdown",
   "metadata": {},
   "source": []
  },
  {
   "cell_type": "markdown",
   "metadata": {},
   "source": [
    "df.take(5) \n",
    "\n",
    "will return a list of five row objects\n",
    "\n",
    "df.collect() \n",
    "\n",
    "will get all of the data from the entire dataframe\n",
    "be really careful when using it because if you have a large data set you can easily crash the driver node\n",
    "\n",
    "df.show() \n",
    "\n",
    "is the most commonly used method to view a dataframe there are a few parameters we can pass to this method like the number of rows and truncaiton\n",
    "for example df.show(5, False) or df.show(5, truncate=False) will show the entire data wihtout any truncation\n",
    "\n",
    "df.limit(5) \n",
    "\n",
    "will return a new dataframe by taking the first n rows as spark is distributed in nature there is no guarantee that df.limit() will give you the same results each time"
   ]
  },
  {
   "cell_type": "markdown",
   "metadata": {},
   "source": []
  },
  {
   "cell_type": "markdown",
   "metadata": {},
   "source": [
    "truncate = True\n",
    "\n",
    "uzun string değerleri 20 karakterden sonra ... koyarak kesilir\n",
    "\n",
    "truncate = False\n",
    "\n",
    "string değerleri tam uzunlukta gösterilir"
   ]
  },
  {
   "cell_type": "code",
   "execution_count": 72,
   "metadata": {},
   "outputs": [
    {
     "data": {
      "text/plain": [
       "['Car',\n",
       " 'MPG',\n",
       " 'Cylinders',\n",
       " 'Displacement',\n",
       " 'Horsepower',\n",
       " 'Weight',\n",
       " 'Acceleration',\n",
       " 'Model',\n",
       " 'Origin']"
      ]
     },
     "execution_count": 72,
     "metadata": {},
     "output_type": "execute_result"
    }
   ],
   "source": [
    "df.columns"
   ]
  },
  {
   "cell_type": "code",
   "execution_count": 73,
   "metadata": {},
   "outputs": [
    {
     "data": {
      "text/plain": [
       "[('Car', 'string'),\n",
       " ('MPG', 'double'),\n",
       " ('Cylinders', 'int'),\n",
       " ('Displacement', 'double'),\n",
       " ('Horsepower', 'double'),\n",
       " ('Weight', 'decimal(4,0)'),\n",
       " ('Acceleration', 'double'),\n",
       " ('Model', 'int'),\n",
       " ('Origin', 'string')]"
      ]
     },
     "execution_count": 73,
     "metadata": {},
     "output_type": "execute_result"
    }
   ],
   "source": [
    "df.dtypes"
   ]
  },
  {
   "cell_type": "code",
   "execution_count": 74,
   "metadata": {},
   "outputs": [
    {
     "name": "stdout",
     "output_type": "stream",
     "text": [
      "root\n",
      " |-- Car: string (nullable = true)\n",
      " |-- MPG: double (nullable = true)\n",
      " |-- Cylinders: integer (nullable = true)\n",
      " |-- Displacement: double (nullable = true)\n",
      " |-- Horsepower: double (nullable = true)\n",
      " |-- Weight: decimal(4,0) (nullable = true)\n",
      " |-- Acceleration: double (nullable = true)\n",
      " |-- Model: integer (nullable = true)\n",
      " |-- Origin: string (nullable = true)\n",
      "\n"
     ]
    }
   ],
   "source": [
    "df.printSchema()"
   ]
  },
  {
   "cell_type": "code",
   "execution_count": 75,
   "metadata": {},
   "outputs": [],
   "source": [
    "labels = [\n",
    "    ('Car',StringType()),\n",
    "    ('MPG',DoubleType()),\n",
    "    ('Cylinders',IntegerType()),\n",
    "    ('Displacement',DoubleType()),\n",
    "    ('Horsepower',DoubleType()),\n",
    "    ('Weight',DoubleType()),\n",
    "    ('Acceleration',DoubleType()),\n",
    "    ('Model',IntegerType()),\n",
    "    ('Origin',StringType())\n",
    "]"
   ]
  },
  {
   "cell_type": "code",
   "execution_count": 76,
   "metadata": {},
   "outputs": [],
   "source": [
    "schema = StructType([StructField (x[0], x[1], True) for x in labels])"
   ]
  },
  {
   "cell_type": "code",
   "execution_count": 77,
   "metadata": {},
   "outputs": [
    {
     "data": {
      "text/plain": [
       "StructType([StructField('Car', StringType(), True), StructField('MPG', DoubleType(), True), StructField('Cylinders', IntegerType(), True), StructField('Displacement', DoubleType(), True), StructField('Horsepower', DoubleType(), True), StructField('Weight', DoubleType(), True), StructField('Acceleration', DoubleType(), True), StructField('Model', IntegerType(), True), StructField('Origin', StringType(), True)])"
      ]
     },
     "execution_count": 77,
     "metadata": {},
     "output_type": "execute_result"
    }
   ],
   "source": [
    "schema"
   ]
  },
  {
   "cell_type": "code",
   "execution_count": 78,
   "metadata": {},
   "outputs": [
    {
     "name": "stdout",
     "output_type": "stream",
     "text": [
      "root\n",
      " |-- Car: string (nullable = true)\n",
      " |-- MPG: double (nullable = true)\n",
      " |-- Cylinders: integer (nullable = true)\n",
      " |-- Displacement: double (nullable = true)\n",
      " |-- Horsepower: double (nullable = true)\n",
      " |-- Weight: double (nullable = true)\n",
      " |-- Acceleration: double (nullable = true)\n",
      " |-- Model: integer (nullable = true)\n",
      " |-- Origin: string (nullable = true)\n",
      "\n"
     ]
    }
   ],
   "source": [
    "df = spark.read.csv('cars.csv', header=True, sep=\";\", schema=schema)\n",
    "df.printSchema()"
   ]
  },
  {
   "cell_type": "code",
   "execution_count": 79,
   "metadata": {},
   "outputs": [
    {
     "name": "stdout",
     "output_type": "stream",
     "text": [
      "+--------------------+\n",
      "|                 Car|\n",
      "+--------------------+\n",
      "|Chevrolet Chevell...|\n",
      "|   Buick Skylark 320|\n",
      "|  Plymouth Satellite|\n",
      "|       AMC Rebel SST|\n",
      "|         Ford Torino|\n",
      "|    Ford Galaxie 500|\n",
      "|    Chevrolet Impala|\n",
      "|   Plymouth Fury iii|\n",
      "|    Pontiac Catalina|\n",
      "|  AMC Ambassador DPL|\n",
      "|Citroen DS-21 Pallas|\n",
      "|Chevrolet Chevell...|\n",
      "|    Ford Torino (sw)|\n",
      "|Plymouth Satellit...|\n",
      "|  AMC Rebel SST (sw)|\n",
      "| Dodge Challenger SE|\n",
      "|  Plymouth 'Cuda 340|\n",
      "|Ford Mustang Boss...|\n",
      "|Chevrolet Monte C...|\n",
      "|Buick Estate Wago...|\n",
      "+--------------------+\n",
      "only showing top 20 rows\n",
      "\n"
     ]
    }
   ],
   "source": [
    "df.select(df.Car).show()"
   ]
  },
  {
   "cell_type": "code",
   "execution_count": 80,
   "metadata": {},
   "outputs": [
    {
     "name": "stdout",
     "output_type": "stream",
     "text": [
      "+--------------------------------+\n",
      "|car                             |\n",
      "+--------------------------------+\n",
      "|Chevrolet Chevelle Malibu       |\n",
      "|Buick Skylark 320               |\n",
      "|Plymouth Satellite              |\n",
      "|AMC Rebel SST                   |\n",
      "|Ford Torino                     |\n",
      "|Ford Galaxie 500                |\n",
      "|Chevrolet Impala                |\n",
      "|Plymouth Fury iii               |\n",
      "|Pontiac Catalina                |\n",
      "|AMC Ambassador DPL              |\n",
      "|Citroen DS-21 Pallas            |\n",
      "|Chevrolet Chevelle Concours (sw)|\n",
      "|Ford Torino (sw)                |\n",
      "|Plymouth Satellite (sw)         |\n",
      "|AMC Rebel SST (sw)              |\n",
      "|Dodge Challenger SE             |\n",
      "|Plymouth 'Cuda 340              |\n",
      "|Ford Mustang Boss 302           |\n",
      "|Chevrolet Monte Carlo           |\n",
      "|Buick Estate Wagon (sw)         |\n",
      "+--------------------------------+\n",
      "only showing top 20 rows\n",
      "\n"
     ]
    }
   ],
   "source": [
    "df.select(df['car']).show(truncate=False)"
   ]
  },
  {
   "cell_type": "code",
   "execution_count": 81,
   "metadata": {},
   "outputs": [
    {
     "name": "stdout",
     "output_type": "stream",
     "text": [
      "+--------------------------------+\n",
      "|car                             |\n",
      "+--------------------------------+\n",
      "|Chevrolet Chevelle Malibu       |\n",
      "|Buick Skylark 320               |\n",
      "|Plymouth Satellite              |\n",
      "|AMC Rebel SST                   |\n",
      "|Ford Torino                     |\n",
      "|Ford Galaxie 500                |\n",
      "|Chevrolet Impala                |\n",
      "|Plymouth Fury iii               |\n",
      "|Pontiac Catalina                |\n",
      "|AMC Ambassador DPL              |\n",
      "|Citroen DS-21 Pallas            |\n",
      "|Chevrolet Chevelle Concours (sw)|\n",
      "|Ford Torino (sw)                |\n",
      "|Plymouth Satellite (sw)         |\n",
      "|AMC Rebel SST (sw)              |\n",
      "|Dodge Challenger SE             |\n",
      "|Plymouth 'Cuda 340              |\n",
      "|Ford Mustang Boss 302           |\n",
      "|Chevrolet Monte Carlo           |\n",
      "|Buick Estate Wagon (sw)         |\n",
      "+--------------------------------+\n",
      "only showing top 20 rows\n",
      "\n"
     ]
    }
   ],
   "source": [
    "df.select(col('car')).show(truncate=False)"
   ]
  },
  {
   "cell_type": "code",
   "execution_count": 82,
   "metadata": {},
   "outputs": [
    {
     "name": "stdout",
     "output_type": "stream",
     "text": [
      "+--------------------+---------+\n",
      "|                 Car|Cylinders|\n",
      "+--------------------+---------+\n",
      "|Chevrolet Chevell...|        8|\n",
      "|   Buick Skylark 320|        8|\n",
      "|  Plymouth Satellite|        8|\n",
      "|       AMC Rebel SST|        8|\n",
      "|         Ford Torino|        8|\n",
      "|    Ford Galaxie 500|        8|\n",
      "|    Chevrolet Impala|        8|\n",
      "|   Plymouth Fury iii|        8|\n",
      "|    Pontiac Catalina|        8|\n",
      "|  AMC Ambassador DPL|        8|\n",
      "|Citroen DS-21 Pallas|        4|\n",
      "|Chevrolet Chevell...|        8|\n",
      "|    Ford Torino (sw)|        8|\n",
      "|Plymouth Satellit...|        8|\n",
      "|  AMC Rebel SST (sw)|        8|\n",
      "| Dodge Challenger SE|        8|\n",
      "|  Plymouth 'Cuda 340|        8|\n",
      "|Ford Mustang Boss...|        8|\n",
      "|Chevrolet Monte C...|        8|\n",
      "|Buick Estate Wago...|        8|\n",
      "+--------------------+---------+\n",
      "only showing top 20 rows\n",
      "\n"
     ]
    }
   ],
   "source": [
    "df.select(df.Car, df.Cylinders).show()"
   ]
  },
  {
   "cell_type": "code",
   "execution_count": 83,
   "metadata": {},
   "outputs": [
    {
     "name": "stdout",
     "output_type": "stream",
     "text": [
      "+--------------------+----+---------+------------+----------+------+------------+-----+------+------------+\n",
      "|                 Car| MPG|Cylinders|Displacement|Horsepower|Weight|Acceleration|Model|Origin|first_column|\n",
      "+--------------------+----+---------+------------+----------+------+------------+-----+------+------------+\n",
      "|Chevrolet Chevell...|18.0|        8|       307.0|     130.0|3504.0|        12.0|   70|    US|           1|\n",
      "|   Buick Skylark 320|15.0|        8|       350.0|     165.0|3693.0|        11.5|   70|    US|           1|\n",
      "|  Plymouth Satellite|18.0|        8|       318.0|     150.0|3436.0|        11.0|   70|    US|           1|\n",
      "|       AMC Rebel SST|16.0|        8|       304.0|     150.0|3433.0|        12.0|   70|    US|           1|\n",
      "|         Ford Torino|17.0|        8|       302.0|     140.0|3449.0|        10.5|   70|    US|           1|\n",
      "+--------------------+----+---------+------------+----------+------+------------+-----+------+------------+\n",
      "only showing top 5 rows\n",
      "\n"
     ]
    }
   ],
   "source": [
    "df = df.withColumn('first_column',lit(1))\n",
    "df.show(5)"
   ]
  },
  {
   "cell_type": "code",
   "execution_count": 84,
   "metadata": {},
   "outputs": [
    {
     "name": "stdout",
     "output_type": "stream",
     "text": [
      "+--------------------+----+---------+------------+----------+------+------------+-----+------+------------+-------------+------------+\n",
      "|                 Car| MPG|Cylinders|Displacement|Horsepower|Weight|Acceleration|Model|Origin|first_column|second_column|third_column|\n",
      "+--------------------+----+---------+------------+----------+------+------------+-----+------+------------+-------------+------------+\n",
      "|Chevrolet Chevell...|18.0|        8|       307.0|     130.0|3504.0|        12.0|   70|    US|           1|            2|           a|\n",
      "|   Buick Skylark 320|15.0|        8|       350.0|     165.0|3693.0|        11.5|   70|    US|           1|            2|           a|\n",
      "|  Plymouth Satellite|18.0|        8|       318.0|     150.0|3436.0|        11.0|   70|    US|           1|            2|           a|\n",
      "|       AMC Rebel SST|16.0|        8|       304.0|     150.0|3433.0|        12.0|   70|    US|           1|            2|           a|\n",
      "|         Ford Torino|17.0|        8|       302.0|     140.0|3449.0|        10.5|   70|    US|           1|            2|           a|\n",
      "+--------------------+----+---------+------------+----------+------+------------+-----+------+------------+-------------+------------+\n",
      "only showing top 5 rows\n",
      "\n"
     ]
    }
   ],
   "source": [
    "df = df.withColumn('second_column', lit(2)).withColumn('third_column', lit(\"a\"))\n",
    "df.show(5)"
   ]
  },
  {
   "cell_type": "code",
   "execution_count": 85,
   "metadata": {},
   "outputs": [
    {
     "name": "stdout",
     "output_type": "stream",
     "text": [
      "+--------------------+----+---------+------------+----------+------+------------+-----+------+------------+-------------+------------+--------------------+\n",
      "|                 Car| MPG|Cylinders|Displacement|Horsepower|Weight|Acceleration|Model|Origin|first_column|second_column|third_column|           car_model|\n",
      "+--------------------+----+---------+------------+----------+------+------------+-----+------+------------+-------------+------------+--------------------+\n",
      "|Chevrolet Chevell...|18.0|        8|       307.0|     130.0|3504.0|        12.0|   70|    US|           1|            2|           a|Chevrolet Chevell...|\n",
      "|   Buick Skylark 320|15.0|        8|       350.0|     165.0|3693.0|        11.5|   70|    US|           1|            2|           a|Buick Skylark 320 70|\n",
      "|  Plymouth Satellite|18.0|        8|       318.0|     150.0|3436.0|        11.0|   70|    US|           1|            2|           a|Plymouth Satellit...|\n",
      "|       AMC Rebel SST|16.0|        8|       304.0|     150.0|3433.0|        12.0|   70|    US|           1|            2|           a|    AMC Rebel SST 70|\n",
      "|         Ford Torino|17.0|        8|       302.0|     140.0|3449.0|        10.5|   70|    US|           1|            2|           a|      Ford Torino 70|\n",
      "+--------------------+----+---------+------------+----------+------+------------+-----+------+------------+-------------+------------+--------------------+\n",
      "only showing top 5 rows\n",
      "\n"
     ]
    }
   ],
   "source": [
    "df = df.withColumn(\"car_model\",concat(col(\"car\"),lit(\" \"),col(\"model\")))\n",
    "df.show(5)"
   ]
  },
  {
   "cell_type": "code",
   "execution_count": 86,
   "metadata": {},
   "outputs": [
    {
     "name": "stdout",
     "output_type": "stream",
     "text": [
      "+--------------------+----+---------+------------+----------+------+------------+-----+------+------------+-------------+------------+--------------------+\n",
      "|                 car| mpg|cylinders|displacement|horsepower|weight|acceleration|model|origin|first_column|second_column|third_column|           car_model|\n",
      "+--------------------+----+---------+------------+----------+------+------------+-----+------+------------+-------------+------------+--------------------+\n",
      "|Chevrolet Chevell...|18.0|        8|       307.0|     130.0|3504.0|        12.0|   70|    US|           1|            2|           a|Chevrolet Chevell...|\n",
      "|   Buick Skylark 320|15.0|        8|       350.0|     165.0|3693.0|        11.5|   70|    US|           1|            2|           a|Buick Skylark 320 70|\n",
      "|  Plymouth Satellite|18.0|        8|       318.0|     150.0|3436.0|        11.0|   70|    US|           1|            2|           a|Plymouth Satellit...|\n",
      "|       AMC Rebel SST|16.0|        8|       304.0|     150.0|3433.0|        12.0|   70|    US|           1|            2|           a|    AMC Rebel SST 70|\n",
      "|         Ford Torino|17.0|        8|       302.0|     140.0|3449.0|        10.5|   70|    US|           1|            2|           a|      Ford Torino 70|\n",
      "+--------------------+----+---------+------------+----------+------+------------+-----+------+------------+-------------+------------+--------------------+\n",
      "only showing top 5 rows\n",
      "\n"
     ]
    }
   ],
   "source": [
    "df = df.withColumnRenamed(\"Car\",\"car\").withColumnRenamed(\"MPG\",\"mpg\").withColumnRenamed(\"Cylinders\",\"cylinders\")\n",
    "df = df.withColumnRenamed(\"Displacement\",\"displacement\").withColumnRenamed(\"Horsepower\",\"horsepower\").withColumnRenamed(\"Weight\",\"weight\")\n",
    "df = df.withColumnRenamed(\"Acceleration\",\"acceleration\").withColumnRenamed(\"Model\",\"model\").withColumnRenamed(\"Origin\",\"origin\")\n",
    "df.show(5)"
   ]
  },
  {
   "cell_type": "code",
   "execution_count": 87,
   "metadata": {},
   "outputs": [
    {
     "data": {
      "text/html": [
       "<table border='1'>\n",
       "<tr><th>origin</th><th>count</th></tr>\n",
       "<tr><td>Europe</td><td>73</td></tr>\n",
       "<tr><td>US</td><td>254</td></tr>\n",
       "<tr><td>Japan</td><td>79</td></tr>\n",
       "</table>\n"
      ],
      "text/plain": [
       "+------+-----+\n",
       "|origin|count|\n",
       "+------+-----+\n",
       "|Europe|   73|\n",
       "|    US|  254|\n",
       "| Japan|   79|\n",
       "+------+-----+"
      ]
     },
     "execution_count": 87,
     "metadata": {},
     "output_type": "execute_result"
    }
   ],
   "source": [
    "df.groupBy(\"origin\").count()"
   ]
  },
  {
   "cell_type": "code",
   "execution_count": 88,
   "metadata": {},
   "outputs": [
    {
     "name": "stdout",
     "output_type": "stream",
     "text": [
      "+------+-----+\n",
      "|origin|count|\n",
      "+------+-----+\n",
      "|Europe|   73|\n",
      "|    US|  254|\n",
      "| Japan|   79|\n",
      "+------+-----+\n",
      "\n"
     ]
    }
   ],
   "source": [
    "df.groupBy(\"origin\").count().show(5)"
   ]
  },
  {
   "cell_type": "code",
   "execution_count": 89,
   "metadata": {},
   "outputs": [
    {
     "data": {
      "text/html": [
       "<table border='1'>\n",
       "<tr><th>origin</th><th>model</th><th>count</th></tr>\n",
       "<tr><td>Europe</td><td>71</td><td>5</td></tr>\n",
       "<tr><td>Europe</td><td>80</td><td>9</td></tr>\n",
       "<tr><td>Europe</td><td>79</td><td>4</td></tr>\n",
       "<tr><td>Japan</td><td>75</td><td>4</td></tr>\n",
       "<tr><td>US</td><td>72</td><td>18</td></tr>\n",
       "<tr><td>US</td><td>80</td><td>7</td></tr>\n",
       "<tr><td>Europe</td><td>74</td><td>6</td></tr>\n",
       "<tr><td>Japan</td><td>79</td><td>2</td></tr>\n",
       "<tr><td>Europe</td><td>76</td><td>8</td></tr>\n",
       "<tr><td>US</td><td>75</td><td>20</td></tr>\n",
       "<tr><td>Japan</td><td>77</td><td>6</td></tr>\n",
       "<tr><td>US</td><td>82</td><td>20</td></tr>\n",
       "<tr><td>Japan</td><td>80</td><td>13</td></tr>\n",
       "<tr><td>Japan</td><td>78</td><td>8</td></tr>\n",
       "<tr><td>US</td><td>78</td><td>22</td></tr>\n",
       "<tr><td>Europe</td><td>75</td><td>6</td></tr>\n",
       "<tr><td>US</td><td>71</td><td>20</td></tr>\n",
       "<tr><td>US</td><td>77</td><td>18</td></tr>\n",
       "<tr><td>Japan</td><td>70</td><td>2</td></tr>\n",
       "<tr><td>Japan</td><td>71</td><td>4</td></tr>\n",
       "</table>\n",
       "only showing top 20 rows\n"
      ],
      "text/plain": [
       "+------+-----+-----+\n",
       "|origin|model|count|\n",
       "+------+-----+-----+\n",
       "|Europe|   71|    5|\n",
       "|Europe|   80|    9|\n",
       "|Europe|   79|    4|\n",
       "| Japan|   75|    4|\n",
       "|    US|   72|   18|\n",
       "|    US|   80|    7|\n",
       "|Europe|   74|    6|\n",
       "| Japan|   79|    2|\n",
       "|Europe|   76|    8|\n",
       "|    US|   75|   20|\n",
       "| Japan|   77|    6|\n",
       "|    US|   82|   20|\n",
       "| Japan|   80|   13|\n",
       "| Japan|   78|    8|\n",
       "|    US|   78|   22|\n",
       "|Europe|   75|    6|\n",
       "|    US|   71|   20|\n",
       "|    US|   77|   18|\n",
       "| Japan|   70|    2|\n",
       "| Japan|   71|    4|\n",
       "+------+-----+-----+\n",
       "only showing top 20 rows"
      ]
     },
     "execution_count": 89,
     "metadata": {},
     "output_type": "execute_result"
    }
   ],
   "source": [
    "df.groupBy(\"origin\",\"model\").count()"
   ]
  },
  {
   "cell_type": "code",
   "execution_count": 90,
   "metadata": {},
   "outputs": [
    {
     "name": "stdout",
     "output_type": "stream",
     "text": [
      "+------+-----+-----+\n",
      "|origin|model|count|\n",
      "+------+-----+-----+\n",
      "|Europe|   71|    5|\n",
      "|Europe|   80|    9|\n",
      "|Europe|   79|    4|\n",
      "| Japan|   75|    4|\n",
      "|    US|   72|   18|\n",
      "+------+-----+-----+\n",
      "only showing top 5 rows\n",
      "\n"
     ]
    }
   ],
   "source": [
    "df.groupBy(\"origin\",\"model\").count().show(5)"
   ]
  },
  {
   "cell_type": "code",
   "execution_count": 91,
   "metadata": {},
   "outputs": [
    {
     "data": {
      "text/plain": [
       "['car',\n",
       " 'mpg',\n",
       " 'cylinders',\n",
       " 'displacement',\n",
       " 'horsepower',\n",
       " 'weight',\n",
       " 'acceleration',\n",
       " 'model',\n",
       " 'origin',\n",
       " 'car_model']"
      ]
     },
     "execution_count": 91,
     "metadata": {},
     "output_type": "execute_result"
    }
   ],
   "source": [
    "df = df.drop(\"first_column\")\n",
    "df = df.drop(\"second_column\").drop(\"third_column\")\n",
    "df.columns"
   ]
  },
  {
   "cell_type": "code",
   "execution_count": 95,
   "metadata": {},
   "outputs": [
    {
     "name": "stdout",
     "output_type": "stream",
     "text": [
      "total record count: 406\n",
      "europe filtered record count: 73\n"
     ]
    }
   ],
   "source": [
    "total_count = df.count()\n",
    "print(\"total record count:\",total_count)\n",
    "\n",
    "europe_filtered_count = df.filter(col(\"origin\")==\"Europe\").count()\n",
    "print(\"europe filtered record count:\",europe_filtered_count)"
   ]
  },
  {
   "cell_type": "code",
   "execution_count": 96,
   "metadata": {},
   "outputs": [
    {
     "name": "stdout",
     "output_type": "stream",
     "text": [
      "+--------------------+----+---------+------------+----------+------+------------+-----+------+--------------------+\n",
      "|                 car| mpg|cylinders|displacement|horsepower|weight|acceleration|model|origin|           car_model|\n",
      "+--------------------+----+---------+------------+----------+------+------------+-----+------+--------------------+\n",
      "|Citroen DS-21 Pallas| 0.0|        4|       133.0|     115.0|3090.0|        17.5|   70|Europe|Citroen DS-21 Pal...|\n",
      "|Volkswagen 1131 D...|26.0|        4|        97.0|      46.0|1835.0|        20.5|   70|Europe|Volkswagen 1131 D...|\n",
      "|         Peugeot 504|25.0|        4|       110.0|      87.0|2672.0|        17.5|   70|Europe|      Peugeot 504 70|\n",
      "|         Audi 100 LS|24.0|        4|       107.0|      90.0|2430.0|        14.5|   70|Europe|      Audi 100 LS 70|\n",
      "|            Saab 99e|25.0|        4|       104.0|      95.0|2375.0|        17.5|   70|Europe|         Saab 99e 70|\n",
      "+--------------------+----+---------+------------+----------+------+------------+-----+------+--------------------+\n",
      "only showing top 5 rows\n",
      "\n"
     ]
    }
   ],
   "source": [
    "df.filter(col(\"origin\") == \"Europe\").show(5)"
   ]
  },
  {
   "cell_type": "code",
   "execution_count": 100,
   "metadata": {},
   "outputs": [
    {
     "name": "stdout",
     "output_type": "stream",
     "text": [
      "total record count: 406\n",
      "europe filtered record count: 66\n"
     ]
    }
   ],
   "source": [
    "total_count = df.count()\n",
    "print(\"total record count:\",total_count)\n",
    "\n",
    "europe_filtered_count = df.filter((col(\"origin\")==\"Europe\") & (col(\"cylinders\") == 4)).count()\n",
    "print(\"europe filtered record count:\",europe_filtered_count)"
   ]
  },
  {
   "cell_type": "code",
   "execution_count": 101,
   "metadata": {},
   "outputs": [
    {
     "name": "stdout",
     "output_type": "stream",
     "text": [
      "+--------------------+----+---------+------------+----------+------+------------+-----+------+--------------------+\n",
      "|                 car| mpg|cylinders|displacement|horsepower|weight|acceleration|model|origin|           car_model|\n",
      "+--------------------+----+---------+------------+----------+------+------------+-----+------+--------------------+\n",
      "|Citroen DS-21 Pallas| 0.0|        4|       133.0|     115.0|3090.0|        17.5|   70|Europe|Citroen DS-21 Pal...|\n",
      "|Volkswagen 1131 D...|26.0|        4|        97.0|      46.0|1835.0|        20.5|   70|Europe|Volkswagen 1131 D...|\n",
      "|         Peugeot 504|25.0|        4|       110.0|      87.0|2672.0|        17.5|   70|Europe|      Peugeot 504 70|\n",
      "|         Audi 100 LS|24.0|        4|       107.0|      90.0|2430.0|        14.5|   70|Europe|      Audi 100 LS 70|\n",
      "|            Saab 99e|25.0|        4|       104.0|      95.0|2375.0|        17.5|   70|Europe|         Saab 99e 70|\n",
      "+--------------------+----+---------+------------+----------+------+------------+-----+------+--------------------+\n",
      "only showing top 5 rows\n",
      "\n"
     ]
    }
   ],
   "source": [
    "df.filter((col(\"origin\") == \"Europe\") & (col(\"cylinders\") == 4)).show(5)"
   ]
  },
  {
   "cell_type": "code",
   "execution_count": 102,
   "metadata": {},
   "outputs": [
    {
     "data": {
      "text/html": [
       "<table border='1'>\n",
       "<tr><th>origin</th></tr>\n",
       "<tr><td>Europe</td></tr>\n",
       "<tr><td>US</td></tr>\n",
       "<tr><td>Japan</td></tr>\n",
       "</table>\n"
      ],
      "text/plain": [
       "+------+\n",
       "|origin|\n",
       "+------+\n",
       "|Europe|\n",
       "|    US|\n",
       "| Japan|\n",
       "+------+"
      ]
     },
     "execution_count": 102,
     "metadata": {},
     "output_type": "execute_result"
    }
   ],
   "source": [
    "df.select(\"origin\").distinct()"
   ]
  },
  {
   "cell_type": "code",
   "execution_count": 103,
   "metadata": {},
   "outputs": [
    {
     "name": "stdout",
     "output_type": "stream",
     "text": [
      "+------+\n",
      "|origin|\n",
      "+------+\n",
      "|Europe|\n",
      "|    US|\n",
      "| Japan|\n",
      "+------+\n",
      "\n"
     ]
    }
   ],
   "source": [
    "df.select(\"origin\").distinct().show()"
   ]
  },
  {
   "cell_type": "code",
   "execution_count": 104,
   "metadata": {},
   "outputs": [
    {
     "data": {
      "text/html": [
       "<table border='1'>\n",
       "<tr><th>origin</th><th>model</th></tr>\n",
       "<tr><td>Europe</td><td>71</td></tr>\n",
       "<tr><td>Europe</td><td>80</td></tr>\n",
       "<tr><td>Europe</td><td>79</td></tr>\n",
       "<tr><td>Japan</td><td>75</td></tr>\n",
       "<tr><td>US</td><td>72</td></tr>\n",
       "<tr><td>US</td><td>80</td></tr>\n",
       "<tr><td>Europe</td><td>74</td></tr>\n",
       "<tr><td>Japan</td><td>79</td></tr>\n",
       "<tr><td>Europe</td><td>76</td></tr>\n",
       "<tr><td>US</td><td>75</td></tr>\n",
       "<tr><td>Japan</td><td>77</td></tr>\n",
       "<tr><td>US</td><td>82</td></tr>\n",
       "<tr><td>Japan</td><td>80</td></tr>\n",
       "<tr><td>Japan</td><td>78</td></tr>\n",
       "<tr><td>US</td><td>78</td></tr>\n",
       "<tr><td>Europe</td><td>75</td></tr>\n",
       "<tr><td>US</td><td>71</td></tr>\n",
       "<tr><td>US</td><td>77</td></tr>\n",
       "<tr><td>Japan</td><td>70</td></tr>\n",
       "<tr><td>Japan</td><td>71</td></tr>\n",
       "</table>\n",
       "only showing top 20 rows\n"
      ],
      "text/plain": [
       "+------+-----+\n",
       "|origin|model|\n",
       "+------+-----+\n",
       "|Europe|   71|\n",
       "|Europe|   80|\n",
       "|Europe|   79|\n",
       "| Japan|   75|\n",
       "|    US|   72|\n",
       "|    US|   80|\n",
       "|Europe|   74|\n",
       "| Japan|   79|\n",
       "|Europe|   76|\n",
       "|    US|   75|\n",
       "| Japan|   77|\n",
       "|    US|   82|\n",
       "| Japan|   80|\n",
       "| Japan|   78|\n",
       "|    US|   78|\n",
       "|Europe|   75|\n",
       "|    US|   71|\n",
       "|    US|   77|\n",
       "| Japan|   70|\n",
       "| Japan|   71|\n",
       "+------+-----+\n",
       "only showing top 20 rows"
      ]
     },
     "execution_count": 104,
     "metadata": {},
     "output_type": "execute_result"
    }
   ],
   "source": [
    "df.select(\"origin\",\"model\").distinct()"
   ]
  },
  {
   "cell_type": "code",
   "execution_count": 106,
   "metadata": {},
   "outputs": [
    {
     "name": "stdout",
     "output_type": "stream",
     "text": [
      "+--------------------+----+---------+------------+----------+------+------------+-----+------+--------------------+\n",
      "|                 car| mpg|cylinders|displacement|horsepower|weight|acceleration|model|origin|           car_model|\n",
      "+--------------------+----+---------+------------+----------+------+------------+-----+------+--------------------+\n",
      "|     Mazda RX2 Coupe|19.0|        3|        70.0|      97.0|2330.0|        13.5|   72| Japan|  Mazda RX2 Coupe 72|\n",
      "|           Mazda RX3|18.0|        3|        70.0|      90.0|2124.0|        13.5|   73| Japan|        Mazda RX3 73|\n",
      "|          Mazda RX-4|21.5|        3|        80.0|     110.0|2720.0|        13.5|   77| Japan|       Mazda RX-4 77|\n",
      "|       Mazda RX-7 GS|23.7|        3|        70.0|     100.0|2420.0|        12.5|   80| Japan|    Mazda RX-7 GS 80|\n",
      "|        Datsun PL510|27.0|        4|        97.0|      88.0|2130.0|        14.5|   71| Japan|     Datsun PL510 71|\n",
      "| Toyota Corolla 1200|31.0|        4|        71.0|      65.0|1773.0|        19.0|   71| Japan|Toyota Corolla 12...|\n",
      "| Chevrolet Vega 2300|28.0|        4|       140.0|      90.0|2264.0|        15.5|   71|    US|Chevrolet Vega 23...|\n",
      "|Citroen DS-21 Pallas| 0.0|        4|       133.0|     115.0|3090.0|        17.5|   70|Europe|Citroen DS-21 Pal...|\n",
      "|      Toyota Corolla|25.0|        4|       113.0|      95.0|2228.0|        14.0|   71| Japan|   Toyota Corolla 71|\n",
      "|Volkswagen 1131 D...|26.0|        4|        97.0|      46.0|1835.0|        20.5|   70|Europe|Volkswagen 1131 D...|\n",
      "+--------------------+----+---------+------------+----------+------+------------+-----+------+--------------------+\n",
      "only showing top 10 rows\n",
      "\n"
     ]
    }
   ],
   "source": [
    "df.orderBy(\"cylinders\").show(10)"
   ]
  },
  {
   "cell_type": "code",
   "execution_count": 107,
   "metadata": {},
   "outputs": [
    {
     "name": "stdout",
     "output_type": "stream",
     "text": [
      "+--------------------+----+---------+------------+----------+------+------------+-----+------+--------------------+\n",
      "|                 car| mpg|cylinders|displacement|horsepower|weight|acceleration|model|origin|           car_model|\n",
      "+--------------------+----+---------+------------+----------+------+------------+-----+------+--------------------+\n",
      "|Chevrolet Chevell...| 0.0|        8|       350.0|     165.0|4142.0|        11.5|   70|    US|Chevrolet Chevell...|\n",
      "|Chevrolet Chevell...|18.0|        8|       307.0|     130.0|3504.0|        12.0|   70|    US|Chevrolet Chevell...|\n",
      "|Buick Estate Wago...|14.0|        8|       455.0|     225.0|3086.0|        10.0|   70|    US|Buick Estate Wago...|\n",
      "|    Ford Torino (sw)| 0.0|        8|       351.0|     153.0|4034.0|        11.0|   70|    US| Ford Torino (sw) 70|\n",
      "|  Plymouth Satellite|18.0|        8|       318.0|     150.0|3436.0|        11.0|   70|    US|Plymouth Satellit...|\n",
      "|Plymouth Satellit...| 0.0|        8|       383.0|     175.0|4166.0|        10.5|   70|    US|Plymouth Satellit...|\n",
      "|         Ford Torino|17.0|        8|       302.0|     140.0|3449.0|        10.5|   70|    US|      Ford Torino 70|\n",
      "|  AMC Rebel SST (sw)| 0.0|        8|       360.0|     175.0|3850.0|        11.0|   70|    US|AMC Rebel SST (sw...|\n",
      "|    Chevrolet Impala|14.0|        8|       454.0|     220.0|4354.0|         9.0|   70|    US| Chevrolet Impala 70|\n",
      "| Dodge Challenger SE|15.0|        8|       383.0|     170.0|3563.0|        10.0|   70|    US|Dodge Challenger ...|\n",
      "+--------------------+----+---------+------------+----------+------+------------+-----+------+--------------------+\n",
      "only showing top 10 rows\n",
      "\n"
     ]
    }
   ],
   "source": [
    "df.orderBy(\"cylinders\",ascending=False).show(10)"
   ]
  },
  {
   "cell_type": "code",
   "execution_count": 108,
   "metadata": {},
   "outputs": [
    {
     "data": {
      "text/html": [
       "<table border='1'>\n",
       "<tr><th>origin</th><th>count</th></tr>\n",
       "<tr><td>US</td><td>254</td></tr>\n",
       "<tr><td>Japan</td><td>79</td></tr>\n",
       "<tr><td>Europe</td><td>73</td></tr>\n",
       "</table>\n"
      ],
      "text/plain": [
       "+------+-----+\n",
       "|origin|count|\n",
       "+------+-----+\n",
       "|    US|  254|\n",
       "| Japan|   79|\n",
       "|Europe|   73|\n",
       "+------+-----+"
      ]
     },
     "execution_count": 108,
     "metadata": {},
     "output_type": "execute_result"
    }
   ],
   "source": [
    "df.groupBy(\"origin\").count().orderBy(\"count\",ascending=False)"
   ]
  },
  {
   "cell_type": "markdown",
   "metadata": {},
   "source": [
    "union() \n",
    "- it is used to merge two dataframes of the same structure-schema\n",
    "- if schemas are not the same it returns an error\n",
    "\n",
    "unionAll() \n",
    "- this function is deprecated since spark 2.0.0 and replaced with union()\n",
    "\n",
    "unionByName()\n",
    "- this function is used to merge two dataframes based on column name"
   ]
  },
  {
   "cell_type": "markdown",
   "metadata": {},
   "source": []
  },
  {
   "cell_type": "code",
   "execution_count": 109,
   "metadata": {},
   "outputs": [
    {
     "name": "stdout",
     "output_type": "stream",
     "text": [
      "europe cars: 73\n",
      "japan cars: 79\n",
      "after union: 152\n"
     ]
    }
   ],
   "source": [
    "europe_cars = df.filter(col('origin')=='Europe')\n",
    "japan_cars = df.filter(col('origin')=='Japan')\n",
    "union = europe_cars.union(japan_cars)\n",
    "\n",
    "print(\"europe cars:\",europe_cars.count())\n",
    "print(\"japan cars:\",japan_cars.count())\n",
    "print(\"after union:\",union.count())"
   ]
  },
  {
   "cell_type": "code",
   "execution_count": 110,
   "metadata": {},
   "outputs": [
    {
     "name": "stdout",
     "output_type": "stream",
     "text": [
      "+----+----+----+\n",
      "|col0|col1|col2|\n",
      "+----+----+----+\n",
      "|   1|   2|   3|\n",
      "|   6|   4|   5|\n",
      "+----+----+----+\n",
      "\n"
     ]
    }
   ],
   "source": [
    "df1 = spark.createDataFrame([[1, 2, 3]], [\"col0\", \"col1\", \"col2\"])\n",
    "df2 = spark.createDataFrame([[4, 5, 6]], [\"col1\", \"col2\", \"col0\"])\n",
    "\n",
    "df1.unionByName(df2).show()"
   ]
  },
  {
   "cell_type": "code",
   "execution_count": 111,
   "metadata": {},
   "outputs": [
    {
     "name": "stdout",
     "output_type": "stream",
     "text": [
      "+----+----+----+\n",
      "|col0|col1|col2|\n",
      "+----+----+----+\n",
      "|   1|   2|   3|\n",
      "|   4|   5|   6|\n",
      "+----+----+----+\n",
      "\n"
     ]
    }
   ],
   "source": [
    "df1 = spark.createDataFrame([[1, 2, 3]], [\"col0\", \"col1\", \"col2\"])\n",
    "df2 = spark.createDataFrame([[4, 5, 6]], [\"col1\", \"col2\", \"col0\"])\n",
    "\n",
    "df1.union(df2).show()"
   ]
  },
  {
   "cell_type": "code",
   "execution_count": 113,
   "metadata": {},
   "outputs": [
    {
     "data": {
      "text/plain": [
       "['Any',\n",
       " 'ArrayType',\n",
       " 'Callable',\n",
       " 'Column',\n",
       " 'DataFrame',\n",
       " 'DataType',\n",
       " 'Dict',\n",
       " 'Iterable',\n",
       " 'JVMView',\n",
       " 'List',\n",
       " 'Optional',\n",
       " 'PandasUDFType',\n",
       " 'PySparkTypeError',\n",
       " 'PySparkValueError',\n",
       " 'SparkContext',\n",
       " 'StringType',\n",
       " 'StructType',\n",
       " 'TYPE_CHECKING',\n",
       " 'Tuple',\n",
       " 'Type',\n",
       " 'Union',\n",
       " 'UserDefinedFunction',\n",
       " 'UserDefinedTableFunction',\n",
       " 'ValuesView',\n",
       " '__builtins__',\n",
       " '__cached__',\n",
       " '__doc__',\n",
       " '__file__',\n",
       " '__loader__',\n",
       " '__name__',\n",
       " '__package__',\n",
       " '__spec__',\n",
       " '_create_column_from_literal',\n",
       " '_create_lambda',\n",
       " '_create_py_udf',\n",
       " '_create_py_udtf',\n",
       " '_from_numpy_type',\n",
       " '_get_jvm_function',\n",
       " '_get_lambda_parameters',\n",
       " '_invoke_binary_math_function',\n",
       " '_invoke_function',\n",
       " '_invoke_function_over_columns',\n",
       " '_invoke_function_over_seq_of_columns',\n",
       " '_invoke_higher_order_function',\n",
       " '_options_to_str',\n",
       " '_test',\n",
       " '_to_java_column',\n",
       " '_to_seq',\n",
       " '_unresolved_named_lambda_variable',\n",
       " 'abs',\n",
       " 'acos',\n",
       " 'acosh',\n",
       " 'add_months',\n",
       " 'aes_decrypt',\n",
       " 'aes_encrypt',\n",
       " 'aggregate',\n",
       " 'any_value',\n",
       " 'approxCountDistinct',\n",
       " 'approx_count_distinct',\n",
       " 'approx_percentile',\n",
       " 'array',\n",
       " 'array_agg',\n",
       " 'array_append',\n",
       " 'array_compact',\n",
       " 'array_contains',\n",
       " 'array_distinct',\n",
       " 'array_except',\n",
       " 'array_insert',\n",
       " 'array_intersect',\n",
       " 'array_join',\n",
       " 'array_max',\n",
       " 'array_min',\n",
       " 'array_position',\n",
       " 'array_prepend',\n",
       " 'array_remove',\n",
       " 'array_repeat',\n",
       " 'array_size',\n",
       " 'array_sort',\n",
       " 'array_union',\n",
       " 'arrays_overlap',\n",
       " 'arrays_zip',\n",
       " 'asc',\n",
       " 'asc_nulls_first',\n",
       " 'asc_nulls_last',\n",
       " 'ascii',\n",
       " 'asin',\n",
       " 'asinh',\n",
       " 'assert_true',\n",
       " 'atan',\n",
       " 'atan2',\n",
       " 'atanh',\n",
       " 'avg',\n",
       " 'base64',\n",
       " 'bin',\n",
       " 'bit_and',\n",
       " 'bit_count',\n",
       " 'bit_get',\n",
       " 'bit_length',\n",
       " 'bit_or',\n",
       " 'bit_xor',\n",
       " 'bitmap_bit_position',\n",
       " 'bitmap_bucket_number',\n",
       " 'bitmap_construct_agg',\n",
       " 'bitmap_count',\n",
       " 'bitmap_or_agg',\n",
       " 'bitwiseNOT',\n",
       " 'bitwise_not',\n",
       " 'bool_and',\n",
       " 'bool_or',\n",
       " 'broadcast',\n",
       " 'bround',\n",
       " 'btrim',\n",
       " 'bucket',\n",
       " 'call_function',\n",
       " 'call_udf',\n",
       " 'cardinality',\n",
       " 'cast',\n",
       " 'cbrt',\n",
       " 'ceil',\n",
       " 'ceiling',\n",
       " 'char',\n",
       " 'char_length',\n",
       " 'character_length',\n",
       " 'coalesce',\n",
       " 'col',\n",
       " 'collect_list',\n",
       " 'collect_set',\n",
       " 'column',\n",
       " 'concat',\n",
       " 'concat_ws',\n",
       " 'contains',\n",
       " 'conv',\n",
       " 'convert_timezone',\n",
       " 'corr',\n",
       " 'cos',\n",
       " 'cosh',\n",
       " 'cot',\n",
       " 'count',\n",
       " 'countDistinct',\n",
       " 'count_distinct',\n",
       " 'count_if',\n",
       " 'count_min_sketch',\n",
       " 'covar_pop',\n",
       " 'covar_samp',\n",
       " 'crc32',\n",
       " 'create_map',\n",
       " 'csc',\n",
       " 'cume_dist',\n",
       " 'curdate',\n",
       " 'current_catalog',\n",
       " 'current_database',\n",
       " 'current_date',\n",
       " 'current_schema',\n",
       " 'current_timestamp',\n",
       " 'current_timezone',\n",
       " 'current_user',\n",
       " 'date_add',\n",
       " 'date_diff',\n",
       " 'date_format',\n",
       " 'date_from_unix_date',\n",
       " 'date_part',\n",
       " 'date_sub',\n",
       " 'date_trunc',\n",
       " 'dateadd',\n",
       " 'datediff',\n",
       " 'datepart',\n",
       " 'day',\n",
       " 'dayofmonth',\n",
       " 'dayofweek',\n",
       " 'dayofyear',\n",
       " 'days',\n",
       " 'decimal',\n",
       " 'decode',\n",
       " 'degrees',\n",
       " 'dense_rank',\n",
       " 'desc',\n",
       " 'desc_nulls_first',\n",
       " 'desc_nulls_last',\n",
       " 'e',\n",
       " 'element_at',\n",
       " 'elt',\n",
       " 'encode',\n",
       " 'endswith',\n",
       " 'equal_null',\n",
       " 'every',\n",
       " 'exists',\n",
       " 'exp',\n",
       " 'explode',\n",
       " 'explode_outer',\n",
       " 'expm1',\n",
       " 'expr',\n",
       " 'extract',\n",
       " 'factorial',\n",
       " 'filter',\n",
       " 'find_in_set',\n",
       " 'first',\n",
       " 'first_value',\n",
       " 'flatten',\n",
       " 'floor',\n",
       " 'forall',\n",
       " 'format_number',\n",
       " 'format_string',\n",
       " 'from_csv',\n",
       " 'from_json',\n",
       " 'from_unixtime',\n",
       " 'from_utc_timestamp',\n",
       " 'functools',\n",
       " 'get',\n",
       " 'get_active_spark_context',\n",
       " 'get_json_object',\n",
       " 'getbit',\n",
       " 'greatest',\n",
       " 'grouping',\n",
       " 'grouping_id',\n",
       " 'has_numpy',\n",
       " 'hash',\n",
       " 'hex',\n",
       " 'histogram_numeric',\n",
       " 'hll_sketch_agg',\n",
       " 'hll_sketch_estimate',\n",
       " 'hll_union',\n",
       " 'hll_union_agg',\n",
       " 'hour',\n",
       " 'hours',\n",
       " 'hypot',\n",
       " 'ifnull',\n",
       " 'ilike',\n",
       " 'initcap',\n",
       " 'inline',\n",
       " 'inline_outer',\n",
       " 'input_file_block_length',\n",
       " 'input_file_block_start',\n",
       " 'input_file_name',\n",
       " 'inspect',\n",
       " 'instr',\n",
       " 'isnan',\n",
       " 'isnotnull',\n",
       " 'isnull',\n",
       " 'java_method',\n",
       " 'json_array_length',\n",
       " 'json_object_keys',\n",
       " 'json_tuple',\n",
       " 'kurtosis',\n",
       " 'lag',\n",
       " 'last',\n",
       " 'last_day',\n",
       " 'last_value',\n",
       " 'lcase',\n",
       " 'lead',\n",
       " 'least',\n",
       " 'left',\n",
       " 'length',\n",
       " 'levenshtein',\n",
       " 'like',\n",
       " 'lit',\n",
       " 'ln',\n",
       " 'localtimestamp',\n",
       " 'locate',\n",
       " 'log',\n",
       " 'log10',\n",
       " 'log1p',\n",
       " 'log2',\n",
       " 'lower',\n",
       " 'lpad',\n",
       " 'ltrim',\n",
       " 'make_date',\n",
       " 'make_dt_interval',\n",
       " 'make_interval',\n",
       " 'make_timestamp',\n",
       " 'make_timestamp_ltz',\n",
       " 'make_timestamp_ntz',\n",
       " 'make_ym_interval',\n",
       " 'map_concat',\n",
       " 'map_contains_key',\n",
       " 'map_entries',\n",
       " 'map_filter',\n",
       " 'map_from_arrays',\n",
       " 'map_from_entries',\n",
       " 'map_keys',\n",
       " 'map_values',\n",
       " 'map_zip_with',\n",
       " 'mask',\n",
       " 'max',\n",
       " 'max_by',\n",
       " 'md5',\n",
       " 'mean',\n",
       " 'median',\n",
       " 'min',\n",
       " 'min_by',\n",
       " 'minute',\n",
       " 'mode',\n",
       " 'monotonically_increasing_id',\n",
       " 'month',\n",
       " 'months',\n",
       " 'months_between',\n",
       " 'named_struct',\n",
       " 'nanvl',\n",
       " 'negate',\n",
       " 'negative',\n",
       " 'next_day',\n",
       " 'now',\n",
       " 'np',\n",
       " 'nth_value',\n",
       " 'ntile',\n",
       " 'nullif',\n",
       " 'nvl',\n",
       " 'nvl2',\n",
       " 'octet_length',\n",
       " 'overlay',\n",
       " 'overload',\n",
       " 'pandas_udf',\n",
       " 'parse_url',\n",
       " 'percent_rank',\n",
       " 'percentile',\n",
       " 'percentile_approx',\n",
       " 'pi',\n",
       " 'pmod',\n",
       " 'posexplode',\n",
       " 'posexplode_outer',\n",
       " 'position',\n",
       " 'positive',\n",
       " 'pow',\n",
       " 'power',\n",
       " 'printf',\n",
       " 'product',\n",
       " 'quarter',\n",
       " 'radians',\n",
       " 'raise_error',\n",
       " 'rand',\n",
       " 'randn',\n",
       " 'rank',\n",
       " 'reduce',\n",
       " 'reflect',\n",
       " 'regexp',\n",
       " 'regexp_count',\n",
       " 'regexp_extract',\n",
       " 'regexp_extract_all',\n",
       " 'regexp_instr',\n",
       " 'regexp_like',\n",
       " 'regexp_replace',\n",
       " 'regexp_substr',\n",
       " 'regr_avgx',\n",
       " 'regr_avgy',\n",
       " 'regr_count',\n",
       " 'regr_intercept',\n",
       " 'regr_r2',\n",
       " 'regr_slope',\n",
       " 'regr_sxx',\n",
       " 'regr_sxy',\n",
       " 'regr_syy',\n",
       " 'repeat',\n",
       " 'replace',\n",
       " 'reverse',\n",
       " 'right',\n",
       " 'rint',\n",
       " 'rlike',\n",
       " 'round',\n",
       " 'row_number',\n",
       " 'rpad',\n",
       " 'rtrim',\n",
       " 'schema_of_csv',\n",
       " 'schema_of_json',\n",
       " 'sec',\n",
       " 'second',\n",
       " 'sentences',\n",
       " 'sequence',\n",
       " 'session_window',\n",
       " 'sha',\n",
       " 'sha1',\n",
       " 'sha2',\n",
       " 'shiftLeft',\n",
       " 'shiftRight',\n",
       " 'shiftRightUnsigned',\n",
       " 'shiftleft',\n",
       " 'shiftright',\n",
       " 'shiftrightunsigned',\n",
       " 'shuffle',\n",
       " 'sign',\n",
       " 'signum',\n",
       " 'sin',\n",
       " 'sinh',\n",
       " 'size',\n",
       " 'skewness',\n",
       " 'slice',\n",
       " 'some',\n",
       " 'sort_array',\n",
       " 'soundex',\n",
       " 'spark_partition_id',\n",
       " 'split',\n",
       " 'split_part',\n",
       " 'sqrt',\n",
       " 'stack',\n",
       " 'startswith',\n",
       " 'std',\n",
       " 'stddev',\n",
       " 'stddev_pop',\n",
       " 'stddev_samp',\n",
       " 'str_to_map',\n",
       " 'struct',\n",
       " 'substr',\n",
       " 'substring',\n",
       " 'substring_index',\n",
       " 'sum',\n",
       " 'sumDistinct',\n",
       " 'sum_distinct',\n",
       " 'sys',\n",
       " 'tan',\n",
       " 'tanh',\n",
       " 'timestamp_micros',\n",
       " 'timestamp_millis',\n",
       " 'timestamp_seconds',\n",
       " 'toDegrees',\n",
       " 'toRadians',\n",
       " 'to_binary',\n",
       " 'to_char',\n",
       " 'to_csv',\n",
       " 'to_date',\n",
       " 'to_json',\n",
       " 'to_number',\n",
       " 'to_str',\n",
       " 'to_timestamp',\n",
       " 'to_timestamp_ltz',\n",
       " 'to_timestamp_ntz',\n",
       " 'to_unix_timestamp',\n",
       " 'to_utc_timestamp',\n",
       " 'to_varchar',\n",
       " 'transform',\n",
       " 'transform_keys',\n",
       " 'transform_values',\n",
       " 'translate',\n",
       " 'trim',\n",
       " 'trunc',\n",
       " 'try_add',\n",
       " 'try_aes_decrypt',\n",
       " 'try_avg',\n",
       " 'try_divide',\n",
       " 'try_element_at',\n",
       " 'try_multiply',\n",
       " 'try_remote_functions',\n",
       " 'try_subtract',\n",
       " 'try_sum',\n",
       " 'try_to_binary',\n",
       " 'try_to_number',\n",
       " 'try_to_timestamp',\n",
       " 'typeof',\n",
       " 'ucase',\n",
       " 'udf',\n",
       " 'udtf',\n",
       " 'unbase64',\n",
       " 'unhex',\n",
       " 'unix_date',\n",
       " 'unix_micros',\n",
       " 'unix_millis',\n",
       " 'unix_seconds',\n",
       " 'unix_timestamp',\n",
       " 'unwrap_udt',\n",
       " 'upper',\n",
       " 'url_decode',\n",
       " 'url_encode',\n",
       " 'user',\n",
       " 'var_pop',\n",
       " 'var_samp',\n",
       " 'variance',\n",
       " 'version',\n",
       " 'warnings',\n",
       " 'weekday',\n",
       " 'weekofyear',\n",
       " 'when',\n",
       " 'width_bucket',\n",
       " 'window',\n",
       " 'window_time',\n",
       " 'xpath',\n",
       " 'xpath_boolean',\n",
       " 'xpath_double',\n",
       " 'xpath_float',\n",
       " 'xpath_int',\n",
       " 'xpath_long',\n",
       " 'xpath_number',\n",
       " 'xpath_short',\n",
       " 'xpath_string',\n",
       " 'xxhash64',\n",
       " 'year',\n",
       " 'years',\n",
       " 'zip_with']"
      ]
     },
     "execution_count": 113,
     "metadata": {},
     "output_type": "execute_result"
    }
   ],
   "source": [
    "dir(functions)"
   ]
  },
  {
   "cell_type": "code",
   "execution_count": 116,
   "metadata": {},
   "outputs": [
    {
     "name": "stdout",
     "output_type": "stream",
     "text": [
      "Help on function substring in module pyspark.sql.functions:\n",
      "\n",
      "substring(str: 'ColumnOrName', pos: int, len: int) -> pyspark.sql.column.Column\n",
      "    Substring starts at `pos` and is of length `len` when str is String type or\n",
      "    returns the slice of byte array that starts at `pos` in byte and is of length `len`\n",
      "    when str is Binary type.\n",
      "\n",
      "    .. versionadded:: 1.5.0\n",
      "\n",
      "    .. versionchanged:: 3.4.0\n",
      "        Supports Spark Connect.\n",
      "\n",
      "    Notes\n",
      "    -----\n",
      "    The position is not zero based, but 1 based index.\n",
      "\n",
      "    Parameters\n",
      "    ----------\n",
      "    str : :class:`~pyspark.sql.Column` or str\n",
      "        target column to work on.\n",
      "    pos : int\n",
      "        starting position in str.\n",
      "    len : int\n",
      "        length of chars.\n",
      "\n",
      "    Returns\n",
      "    -------\n",
      "    :class:`~pyspark.sql.Column`\n",
      "        substring of given value.\n",
      "\n",
      "    Examples\n",
      "    --------\n",
      "    >>> df = spark.createDataFrame([('abcd',)], ['s',])\n",
      "    >>> df.select(substring(df.s, 1, 2).alias('s')).collect()\n",
      "    [Row(s='ab')]\n",
      "\n"
     ]
    }
   ],
   "source": [
    "help(substring)"
   ]
  },
  {
   "cell_type": "code",
   "execution_count": 117,
   "metadata": {},
   "outputs": [
    {
     "data": {
      "text/html": [
       "<table border='1'>\n",
       "<tr><th>car</th><th>lower(car)</th><th>upper(car)</th></tr>\n",
       "<tr><td>Chevrolet Chevell...</td><td>chevrolet chevell...</td><td>CHEVROLET CHEVELL...</td></tr>\n",
       "<tr><td>Buick Skylark 320</td><td>buick skylark 320</td><td>BUICK SKYLARK 320</td></tr>\n",
       "<tr><td>Plymouth Satellite</td><td>plymouth satellite</td><td>PLYMOUTH SATELLITE</td></tr>\n",
       "<tr><td>AMC Rebel SST</td><td>amc rebel sst</td><td>AMC REBEL SST</td></tr>\n",
       "<tr><td>Ford Torino</td><td>ford torino</td><td>FORD TORINO</td></tr>\n",
       "<tr><td>Ford Galaxie 500</td><td>ford galaxie 500</td><td>FORD GALAXIE 500</td></tr>\n",
       "<tr><td>Chevrolet Impala</td><td>chevrolet impala</td><td>CHEVROLET IMPALA</td></tr>\n",
       "<tr><td>Plymouth Fury iii</td><td>plymouth fury iii</td><td>PLYMOUTH FURY III</td></tr>\n",
       "<tr><td>Pontiac Catalina</td><td>pontiac catalina</td><td>PONTIAC CATALINA</td></tr>\n",
       "<tr><td>AMC Ambassador DPL</td><td>amc ambassador dpl</td><td>AMC AMBASSADOR DPL</td></tr>\n",
       "<tr><td>Citroen DS-21 Pallas</td><td>citroen ds-21 pallas</td><td>CITROEN DS-21 PALLAS</td></tr>\n",
       "<tr><td>Chevrolet Chevell...</td><td>chevrolet chevell...</td><td>CHEVROLET CHEVELL...</td></tr>\n",
       "<tr><td>Ford Torino (sw)</td><td>ford torino (sw)</td><td>FORD TORINO (SW)</td></tr>\n",
       "<tr><td>Plymouth Satellit...</td><td>plymouth satellit...</td><td>PLYMOUTH SATELLIT...</td></tr>\n",
       "<tr><td>AMC Rebel SST (sw)</td><td>amc rebel sst (sw)</td><td>AMC REBEL SST (SW)</td></tr>\n",
       "<tr><td>Dodge Challenger SE</td><td>dodge challenger se</td><td>DODGE CHALLENGER SE</td></tr>\n",
       "<tr><td>Plymouth 'Cuda 340</td><td>plymouth 'cuda 340</td><td>PLYMOUTH 'CUDA 340</td></tr>\n",
       "<tr><td>Ford Mustang Boss...</td><td>ford mustang boss...</td><td>FORD MUSTANG BOSS...</td></tr>\n",
       "<tr><td>Chevrolet Monte C...</td><td>chevrolet monte c...</td><td>CHEVROLET MONTE C...</td></tr>\n",
       "<tr><td>Buick Estate Wago...</td><td>buick estate wago...</td><td>BUICK ESTATE WAGO...</td></tr>\n",
       "</table>\n",
       "only showing top 20 rows\n"
      ],
      "text/plain": [
       "+--------------------+--------------------+--------------------+\n",
       "|                 car|          lower(car)|          upper(car)|\n",
       "+--------------------+--------------------+--------------------+\n",
       "|Chevrolet Chevell...|chevrolet chevell...|CHEVROLET CHEVELL...|\n",
       "|   Buick Skylark 320|   buick skylark 320|   BUICK SKYLARK 320|\n",
       "|  Plymouth Satellite|  plymouth satellite|  PLYMOUTH SATELLITE|\n",
       "|       AMC Rebel SST|       amc rebel sst|       AMC REBEL SST|\n",
       "|         Ford Torino|         ford torino|         FORD TORINO|\n",
       "|    Ford Galaxie 500|    ford galaxie 500|    FORD GALAXIE 500|\n",
       "|    Chevrolet Impala|    chevrolet impala|    CHEVROLET IMPALA|\n",
       "|   Plymouth Fury iii|   plymouth fury iii|   PLYMOUTH FURY III|\n",
       "|    Pontiac Catalina|    pontiac catalina|    PONTIAC CATALINA|\n",
       "|  AMC Ambassador DPL|  amc ambassador dpl|  AMC AMBASSADOR DPL|\n",
       "|Citroen DS-21 Pallas|citroen ds-21 pallas|CITROEN DS-21 PALLAS|\n",
       "|Chevrolet Chevell...|chevrolet chevell...|CHEVROLET CHEVELL...|\n",
       "|    Ford Torino (sw)|    ford torino (sw)|    FORD TORINO (SW)|\n",
       "|Plymouth Satellit...|plymouth satellit...|PLYMOUTH SATELLIT...|\n",
       "|  AMC Rebel SST (sw)|  amc rebel sst (sw)|  AMC REBEL SST (SW)|\n",
       "| Dodge Challenger SE| dodge challenger se| DODGE CHALLENGER SE|\n",
       "|  Plymouth 'Cuda 340|  plymouth 'cuda 340|  PLYMOUTH 'CUDA 340|\n",
       "|Ford Mustang Boss...|ford mustang boss...|FORD MUSTANG BOSS...|\n",
       "|Chevrolet Monte C...|chevrolet monte c...|CHEVROLET MONTE C...|\n",
       "|Buick Estate Wago...|buick estate wago...|BUICK ESTATE WAGO...|\n",
       "+--------------------+--------------------+--------------------+\n",
       "only showing top 20 rows"
      ]
     },
     "execution_count": 117,
     "metadata": {},
     "output_type": "execute_result"
    }
   ],
   "source": [
    "df.select(col(\"car\"),lower(col(\"car\")),upper(col(\"car\")))"
   ]
  },
  {
   "cell_type": "code",
   "execution_count": 120,
   "metadata": {},
   "outputs": [
    {
     "data": {
      "text/html": [
       "<table border='1'>\n",
       "<tr><th>min(weight)</th><th>max(weight)</th></tr>\n",
       "<tr><td>1613.0</td><td>5140.0</td></tr>\n",
       "</table>\n"
      ],
      "text/plain": [
       "+-----------+-----------+\n",
       "|min(weight)|max(weight)|\n",
       "+-----------+-----------+\n",
       "|     1613.0|     5140.0|\n",
       "+-----------+-----------+"
      ]
     },
     "execution_count": 120,
     "metadata": {},
     "output_type": "execute_result"
    }
   ],
   "source": [
    "df.select(min(col(\"weight\")),max(col(\"weight\")))"
   ]
  },
  {
   "cell_type": "code",
   "execution_count": 121,
   "metadata": {},
   "outputs": [
    {
     "data": {
      "text/html": [
       "<table border='1'>\n",
       "<tr><th>(min(weight) + 10)</th><th>(max(weight) + 10)</th></tr>\n",
       "<tr><td>1623.0</td><td>5150.0</td></tr>\n",
       "</table>\n"
      ],
      "text/plain": [
       "+------------------+------------------+\n",
       "|(min(weight) + 10)|(max(weight) + 10)|\n",
       "+------------------+------------------+\n",
       "|            1623.0|            5150.0|\n",
       "+------------------+------------------+"
      ]
     },
     "execution_count": 121,
     "metadata": {},
     "output_type": "execute_result"
    }
   ],
   "source": [
    "df.select(min(col(\"weight\")) + lit(10),max(col(\"weight\")) + lit(10))"
   ]
  },
  {
   "cell_type": "code",
   "execution_count": 129,
   "metadata": {},
   "outputs": [
    {
     "name": "stdout",
     "output_type": "stream",
     "text": [
      "+---+--------+\n",
      "| id|car_name|\n",
      "+---+--------+\n",
      "|  1|   car a|\n",
      "|  2|   car b|\n",
      "|  3|   car c|\n",
      "+---+--------+\n",
      "\n",
      "+---+---------+\n",
      "| id|car_price|\n",
      "+---+---------+\n",
      "|  1|     1000|\n",
      "|  2|     2000|\n",
      "|  3|     3000|\n",
      "+---+---------+\n",
      "\n"
     ]
    }
   ],
   "source": [
    "cars_df = spark.createDataFrame([[1, 'car a'],[2, 'car b'],[3, 'car c']], [\"id\", \"car_name\"])\n",
    "cars_df.show()\n",
    "\n",
    "car_price_df = spark.createDataFrame([[1, 1000],[2, 2000],[3, 3000]], [\"id\", \"car_price\"])\n",
    "car_price_df.show()"
   ]
  },
  {
   "cell_type": "code",
   "execution_count": 130,
   "metadata": {},
   "outputs": [
    {
     "data": {
      "text/html": [
       "<table border='1'>\n",
       "<tr><th>id</th><th>car_name</th><th>id</th><th>car_price</th></tr>\n",
       "<tr><td>1</td><td>car a</td><td>1</td><td>1000</td></tr>\n",
       "<tr><td>1</td><td>car a</td><td>2</td><td>2000</td></tr>\n",
       "<tr><td>1</td><td>car a</td><td>3</td><td>3000</td></tr>\n",
       "<tr><td>2</td><td>car b</td><td>1</td><td>1000</td></tr>\n",
       "<tr><td>2</td><td>car b</td><td>2</td><td>2000</td></tr>\n",
       "<tr><td>2</td><td>car b</td><td>3</td><td>3000</td></tr>\n",
       "<tr><td>3</td><td>car c</td><td>1</td><td>1000</td></tr>\n",
       "<tr><td>3</td><td>car c</td><td>2</td><td>2000</td></tr>\n",
       "<tr><td>3</td><td>car c</td><td>3</td><td>3000</td></tr>\n",
       "</table>\n"
      ],
      "text/plain": [
       "+---+--------+---+---------+\n",
       "| id|car_name| id|car_price|\n",
       "+---+--------+---+---------+\n",
       "|  1|   car a|  1|     1000|\n",
       "|  1|   car a|  2|     2000|\n",
       "|  1|   car a|  3|     3000|\n",
       "|  2|   car b|  1|     1000|\n",
       "|  2|   car b|  2|     2000|\n",
       "|  2|   car b|  3|     3000|\n",
       "|  3|   car c|  1|     1000|\n",
       "|  3|   car c|  2|     2000|\n",
       "|  3|   car c|  3|     3000|\n",
       "+---+--------+---+---------+"
      ]
     },
     "execution_count": 130,
     "metadata": {},
     "output_type": "execute_result"
    }
   ],
   "source": [
    "cars_df.join(car_price_df)"
   ]
  },
  {
   "cell_type": "code",
   "execution_count": 131,
   "metadata": {},
   "outputs": [
    {
     "data": {
      "text/html": [
       "<table border='1'>\n",
       "<tr><th>id</th><th>car_name</th><th>car_price</th></tr>\n",
       "<tr><td>1</td><td>car a</td><td>1000</td></tr>\n",
       "<tr><td>2</td><td>car b</td><td>2000</td></tr>\n",
       "<tr><td>3</td><td>car c</td><td>3000</td></tr>\n",
       "</table>\n"
      ],
      "text/plain": [
       "+---+--------+---------+\n",
       "| id|car_name|car_price|\n",
       "+---+--------+---------+\n",
       "|  1|   car a|     1000|\n",
       "|  2|   car b|     2000|\n",
       "|  3|   car c|     3000|\n",
       "+---+--------+---------+"
      ]
     },
     "execution_count": 131,
     "metadata": {},
     "output_type": "execute_result"
    }
   ],
   "source": [
    "cars_df.join(car_price_df, cars_df.id == car_price_df.id, \"inner\").select(cars_df[\"id\"],cars_df[\"car_name\"],car_price_df[\"car_price\"])"
   ]
  }
 ],
 "metadata": {
  "kernelspec": {
   "display_name": "myproject_kernel",
   "language": "python",
   "name": "myproject_kernel"
  },
  "language_info": {
   "codemirror_mode": {
    "name": "ipython",
    "version": 3
   },
   "file_extension": ".py",
   "mimetype": "text/x-python",
   "name": "python",
   "nbconvert_exporter": "python",
   "pygments_lexer": "ipython3",
   "version": "3.12.4"
  }
 },
 "nbformat": 4,
 "nbformat_minor": 2
}
